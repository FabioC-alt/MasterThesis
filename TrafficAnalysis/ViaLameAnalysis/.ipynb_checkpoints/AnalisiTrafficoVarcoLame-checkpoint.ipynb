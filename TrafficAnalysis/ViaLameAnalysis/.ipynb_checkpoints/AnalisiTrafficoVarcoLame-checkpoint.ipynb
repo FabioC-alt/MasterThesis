{
 "cells": [
  {
   "cell_type": "code",
   "execution_count": 4,
   "id": "47ed6abb-8016-4642-958a-fb7e1785d8fc",
   "metadata": {},
   "outputs": [],
   "source": [
    "import pandas as pd\n",
    "import matplotlib.pyplot as plt\n",
    "import warnings\n",
    "\n",
    "# Disable all warnings\n",
    "warnings.filterwarnings(\"ignore\")\n",
    "\n",
    "# Or, to specifically disable the SettingWithCopyWarning\n",
    "warnings.filterwarnings(\"ignore\", category=UserWarning, message=\".*SettingWithCopyWarning.*\")"
   ]
  },
  {
   "cell_type": "code",
   "execution_count": 8,
   "id": "7312ac36-f262-4b0f-a0a3-1a8b00135f1b",
   "metadata": {},
   "outputs": [
    {
     "name": "stdout",
     "output_type": "stream",
     "text": [
      "The dataframe has 205138 rows and 19 columns\n"
     ]
    }
   ],
   "source": [
    "# Loading the file\n",
    "file = 'varco-n-55-lame-direzione-centro.csv'\n",
    "df = pd.read_csv(file, sep=\";\")\n",
    "\n",
    "print('The dataframe has {} rows and {} columns'.format(df.shape[0], df.shape[1]))"
   ]
  },
  {
   "cell_type": "code",
   "execution_count": 10,
   "id": "e13f71bd-8852-4fb9-81e7-b2c52bbd3544",
   "metadata": {},
   "outputs": [
    {
     "data": {
      "text/html": [
       "<div>\n",
       "<style scoped>\n",
       "    .dataframe tbody tr th:only-of-type {\n",
       "        vertical-align: middle;\n",
       "    }\n",
       "\n",
       "    .dataframe tbody tr th {\n",
       "        vertical-align: top;\n",
       "    }\n",
       "\n",
       "    .dataframe thead th {\n",
       "        text-align: right;\n",
       "    }\n",
       "</style>\n",
       "<table border=\"1\" class=\"dataframe\">\n",
       "  <thead>\n",
       "    <tr style=\"text-align: right;\">\n",
       "      <th></th>\n",
       "      <th>Varco</th>\n",
       "      <th>Totale passaggi</th>\n",
       "      <th>Non Classificato</th>\n",
       "      <th>Moto/Ciclomotori</th>\n",
       "      <th>Auto/Furgoni</th>\n",
       "      <th>Bus/Camion</th>\n",
       "      <th>Sintatticamente Corretta</th>\n",
       "      <th>Lista Bianca fuori fascia</th>\n",
       "      <th>Lista bianca regolare</th>\n",
       "      <th>Lista speciale</th>\n",
       "      <th>Lista Nera</th>\n",
       "      <th>Transito generico irregolare</th>\n",
       "      <th>Segnalazioni</th>\n",
       "    </tr>\n",
       "  </thead>\n",
       "  <tbody>\n",
       "    <tr>\n",
       "      <th>count</th>\n",
       "      <td>205138.0</td>\n",
       "      <td>205138.000000</td>\n",
       "      <td>205138.0</td>\n",
       "      <td>205138.000000</td>\n",
       "      <td>205138.000000</td>\n",
       "      <td>205138.000000</td>\n",
       "      <td>205138.0</td>\n",
       "      <td>205138.0</td>\n",
       "      <td>205138.000000</td>\n",
       "      <td>205138.0</td>\n",
       "      <td>205138.0</td>\n",
       "      <td>205138.000000</td>\n",
       "      <td>205138.0</td>\n",
       "    </tr>\n",
       "    <tr>\n",
       "      <th>mean</th>\n",
       "      <td>55.0</td>\n",
       "      <td>2.724400</td>\n",
       "      <td>0.0</td>\n",
       "      <td>0.046305</td>\n",
       "      <td>1.709907</td>\n",
       "      <td>0.968187</td>\n",
       "      <td>0.0</td>\n",
       "      <td>0.0</td>\n",
       "      <td>2.187693</td>\n",
       "      <td>0.0</td>\n",
       "      <td>0.0</td>\n",
       "      <td>0.034981</td>\n",
       "      <td>0.0</td>\n",
       "    </tr>\n",
       "    <tr>\n",
       "      <th>std</th>\n",
       "      <td>0.0</td>\n",
       "      <td>2.787957</td>\n",
       "      <td>0.0</td>\n",
       "      <td>0.243761</td>\n",
       "      <td>1.995307</td>\n",
       "      <td>1.218918</td>\n",
       "      <td>0.0</td>\n",
       "      <td>0.0</td>\n",
       "      <td>2.354652</td>\n",
       "      <td>0.0</td>\n",
       "      <td>0.0</td>\n",
       "      <td>0.763257</td>\n",
       "      <td>0.0</td>\n",
       "    </tr>\n",
       "    <tr>\n",
       "      <th>min</th>\n",
       "      <td>55.0</td>\n",
       "      <td>0.000000</td>\n",
       "      <td>0.0</td>\n",
       "      <td>0.000000</td>\n",
       "      <td>0.000000</td>\n",
       "      <td>0.000000</td>\n",
       "      <td>0.0</td>\n",
       "      <td>0.0</td>\n",
       "      <td>0.000000</td>\n",
       "      <td>0.0</td>\n",
       "      <td>0.0</td>\n",
       "      <td>0.000000</td>\n",
       "      <td>0.0</td>\n",
       "    </tr>\n",
       "    <tr>\n",
       "      <th>25%</th>\n",
       "      <td>55.0</td>\n",
       "      <td>0.000000</td>\n",
       "      <td>0.0</td>\n",
       "      <td>0.000000</td>\n",
       "      <td>0.000000</td>\n",
       "      <td>0.000000</td>\n",
       "      <td>0.0</td>\n",
       "      <td>0.0</td>\n",
       "      <td>0.000000</td>\n",
       "      <td>0.0</td>\n",
       "      <td>0.0</td>\n",
       "      <td>0.000000</td>\n",
       "      <td>0.0</td>\n",
       "    </tr>\n",
       "    <tr>\n",
       "      <th>50%</th>\n",
       "      <td>55.0</td>\n",
       "      <td>2.000000</td>\n",
       "      <td>0.0</td>\n",
       "      <td>0.000000</td>\n",
       "      <td>1.000000</td>\n",
       "      <td>1.000000</td>\n",
       "      <td>0.0</td>\n",
       "      <td>0.0</td>\n",
       "      <td>2.000000</td>\n",
       "      <td>0.0</td>\n",
       "      <td>0.0</td>\n",
       "      <td>0.000000</td>\n",
       "      <td>0.0</td>\n",
       "    </tr>\n",
       "    <tr>\n",
       "      <th>75%</th>\n",
       "      <td>55.0</td>\n",
       "      <td>4.000000</td>\n",
       "      <td>0.0</td>\n",
       "      <td>0.000000</td>\n",
       "      <td>3.000000</td>\n",
       "      <td>2.000000</td>\n",
       "      <td>0.0</td>\n",
       "      <td>0.0</td>\n",
       "      <td>4.000000</td>\n",
       "      <td>0.0</td>\n",
       "      <td>0.0</td>\n",
       "      <td>0.000000</td>\n",
       "      <td>0.0</td>\n",
       "    </tr>\n",
       "    <tr>\n",
       "      <th>max</th>\n",
       "      <td>55.0</td>\n",
       "      <td>79.000000</td>\n",
       "      <td>0.0</td>\n",
       "      <td>12.000000</td>\n",
       "      <td>60.000000</td>\n",
       "      <td>55.000000</td>\n",
       "      <td>0.0</td>\n",
       "      <td>0.0</td>\n",
       "      <td>19.000000</td>\n",
       "      <td>0.0</td>\n",
       "      <td>0.0</td>\n",
       "      <td>78.000000</td>\n",
       "      <td>0.0</td>\n",
       "    </tr>\n",
       "  </tbody>\n",
       "</table>\n",
       "</div>"
      ],
      "text/plain": [
       "          Varco  Totale passaggi  Non Classificato  Moto/Ciclomotori  \\\n",
       "count  205138.0    205138.000000          205138.0     205138.000000   \n",
       "mean       55.0         2.724400               0.0          0.046305   \n",
       "std         0.0         2.787957               0.0          0.243761   \n",
       "min        55.0         0.000000               0.0          0.000000   \n",
       "25%        55.0         0.000000               0.0          0.000000   \n",
       "50%        55.0         2.000000               0.0          0.000000   \n",
       "75%        55.0         4.000000               0.0          0.000000   \n",
       "max        55.0        79.000000               0.0         12.000000   \n",
       "\n",
       "        Auto/Furgoni     Bus/Camion  Sintatticamente Corretta  \\\n",
       "count  205138.000000  205138.000000                  205138.0   \n",
       "mean        1.709907       0.968187                       0.0   \n",
       "std         1.995307       1.218918                       0.0   \n",
       "min         0.000000       0.000000                       0.0   \n",
       "25%         0.000000       0.000000                       0.0   \n",
       "50%         1.000000       1.000000                       0.0   \n",
       "75%         3.000000       2.000000                       0.0   \n",
       "max        60.000000      55.000000                       0.0   \n",
       "\n",
       "       Lista Bianca fuori fascia  Lista bianca regolare  Lista speciale  \\\n",
       "count                   205138.0          205138.000000        205138.0   \n",
       "mean                         0.0               2.187693             0.0   \n",
       "std                          0.0               2.354652             0.0   \n",
       "min                          0.0               0.000000             0.0   \n",
       "25%                          0.0               0.000000             0.0   \n",
       "50%                          0.0               2.000000             0.0   \n",
       "75%                          0.0               4.000000             0.0   \n",
       "max                          0.0              19.000000             0.0   \n",
       "\n",
       "       Lista Nera  Transito generico irregolare  Segnalazioni  \n",
       "count    205138.0                 205138.000000      205138.0  \n",
       "mean          0.0                      0.034981           0.0  \n",
       "std           0.0                      0.763257           0.0  \n",
       "min           0.0                      0.000000           0.0  \n",
       "25%           0.0                      0.000000           0.0  \n",
       "50%           0.0                      0.000000           0.0  \n",
       "75%           0.0                      0.000000           0.0  \n",
       "max           0.0                     78.000000           0.0  "
      ]
     },
     "execution_count": 10,
     "metadata": {},
     "output_type": "execute_result"
    }
   ],
   "source": [
    "df.describe() # Data Description"
   ]
  },
  {
   "cell_type": "markdown",
   "id": "4307939d-64f0-46fc-b609-c57758fc8ffb",
   "metadata": {},
   "source": [
    "No datas are missing as the number of instance count is the same for all the attributes"
   ]
  },
  {
   "cell_type": "code",
   "execution_count": 16,
   "id": "31f81f88-ac9d-418f-b435-cc8195221fa6",
   "metadata": {},
   "outputs": [
    {
     "name": "stdout",
     "output_type": "stream",
     "text": [
      "First Measure: 2019-04-28T14:00:00+02:00\n"
     ]
    }
   ],
   "source": [
    "df.head(2) \n",
    "print('First Measure: {}'.format(df.iloc[0]['Data']))"
   ]
  },
  {
   "cell_type": "code",
   "execution_count": 28,
   "id": "193d7b72-7dd8-40b8-b4bf-a850f6af0c8e",
   "metadata": {},
   "outputs": [
    {
     "name": "stdout",
     "output_type": "stream",
     "text": [
      "First Measure: 2025-01-31T23:45:00+01:00\n"
     ]
    }
   ],
   "source": [
    "df.tail(2)\n",
    "print('First Measure: {}'.format(df.iloc[-1]['Data']))"
   ]
  },
  {
   "cell_type": "code",
   "execution_count": 29,
   "id": "8f611c3e-fd34-40d0-9d76-28b10a13e340",
   "metadata": {},
   "outputs": [],
   "source": [
    "# Dropping Anyway, can be useful \n",
    "df.dropna(inplace=True)"
   ]
  },
  {
   "cell_type": "code",
   "execution_count": 30,
   "id": "d57d778f-439f-40b9-ada5-66f191e5b987",
   "metadata": {},
   "outputs": [],
   "source": [
    "# Only selecting Hours in order to understand the most busy hours\n",
    "hoursdata = df[['Data', 'Totale passaggi']]"
   ]
  },
  {
   "cell_type": "code",
   "execution_count": 31,
   "id": "513688d2-672e-485b-b085-4cb1bcf2e625",
   "metadata": {},
   "outputs": [
    {
     "data": {
      "text/html": [
       "<div>\n",
       "<style scoped>\n",
       "    .dataframe tbody tr th:only-of-type {\n",
       "        vertical-align: middle;\n",
       "    }\n",
       "\n",
       "    .dataframe tbody tr th {\n",
       "        vertical-align: top;\n",
       "    }\n",
       "\n",
       "    .dataframe thead th {\n",
       "        text-align: right;\n",
       "    }\n",
       "</style>\n",
       "<table border=\"1\" class=\"dataframe\">\n",
       "  <thead>\n",
       "    <tr style=\"text-align: right;\">\n",
       "      <th></th>\n",
       "      <th>Data</th>\n",
       "      <th>Totale passaggi</th>\n",
       "    </tr>\n",
       "  </thead>\n",
       "  <tbody>\n",
       "    <tr>\n",
       "      <th>0</th>\n",
       "      <td>2019-04-28T14:00:00+02:00</td>\n",
       "      <td>2</td>\n",
       "    </tr>\n",
       "    <tr>\n",
       "      <th>1</th>\n",
       "      <td>2019-04-28T14:45:00+02:00</td>\n",
       "      <td>1</td>\n",
       "    </tr>\n",
       "    <tr>\n",
       "      <th>2</th>\n",
       "      <td>2019-04-28T15:00:00+02:00</td>\n",
       "      <td>3</td>\n",
       "    </tr>\n",
       "    <tr>\n",
       "      <th>3</th>\n",
       "      <td>2019-04-28T15:15:00+02:00</td>\n",
       "      <td>1</td>\n",
       "    </tr>\n",
       "    <tr>\n",
       "      <th>4</th>\n",
       "      <td>2019-04-28T16:00:00+02:00</td>\n",
       "      <td>1</td>\n",
       "    </tr>\n",
       "    <tr>\n",
       "      <th>...</th>\n",
       "      <td>...</td>\n",
       "      <td>...</td>\n",
       "    </tr>\n",
       "    <tr>\n",
       "      <th>205133</th>\n",
       "      <td>2025-01-31T20:00:00+01:00</td>\n",
       "      <td>5</td>\n",
       "    </tr>\n",
       "    <tr>\n",
       "      <th>205134</th>\n",
       "      <td>2025-01-31T21:45:00+01:00</td>\n",
       "      <td>4</td>\n",
       "    </tr>\n",
       "    <tr>\n",
       "      <th>205135</th>\n",
       "      <td>2025-01-31T23:00:00+01:00</td>\n",
       "      <td>2</td>\n",
       "    </tr>\n",
       "    <tr>\n",
       "      <th>205136</th>\n",
       "      <td>2025-01-31T23:15:00+01:00</td>\n",
       "      <td>3</td>\n",
       "    </tr>\n",
       "    <tr>\n",
       "      <th>205137</th>\n",
       "      <td>2025-01-31T23:45:00+01:00</td>\n",
       "      <td>1</td>\n",
       "    </tr>\n",
       "  </tbody>\n",
       "</table>\n",
       "<p>205138 rows × 2 columns</p>\n",
       "</div>"
      ],
      "text/plain": [
       "                             Data  Totale passaggi\n",
       "0       2019-04-28T14:00:00+02:00                2\n",
       "1       2019-04-28T14:45:00+02:00                1\n",
       "2       2019-04-28T15:00:00+02:00                3\n",
       "3       2019-04-28T15:15:00+02:00                1\n",
       "4       2019-04-28T16:00:00+02:00                1\n",
       "...                           ...              ...\n",
       "205133  2025-01-31T20:00:00+01:00                5\n",
       "205134  2025-01-31T21:45:00+01:00                4\n",
       "205135  2025-01-31T23:00:00+01:00                2\n",
       "205136  2025-01-31T23:15:00+01:00                3\n",
       "205137  2025-01-31T23:45:00+01:00                1\n",
       "\n",
       "[205138 rows x 2 columns]"
      ]
     },
     "execution_count": 31,
     "metadata": {},
     "output_type": "execute_result"
    }
   ],
   "source": [
    "hoursdata"
   ]
  },
  {
   "cell_type": "code",
   "execution_count": 33,
   "id": "8ca31d18-bda5-4a15-9662-608b74baafce",
   "metadata": {},
   "outputs": [],
   "source": [
    "# Converting the Date's strings into Datetime format to extract the hours\n",
    "hoursdata['Data'] = pd.to_datetime(hoursdata['Data'], utc=True)"
   ]
  },
  {
   "cell_type": "code",
   "execution_count": 35,
   "id": "8989b232-b5fa-4114-8f07-8bba664d4837",
   "metadata": {},
   "outputs": [
    {
     "data": {
      "text/plain": [
       "Data               datetime64[ns, UTC]\n",
       "Totale passaggi                  int64\n",
       "dtype: object"
      ]
     },
     "execution_count": 35,
     "metadata": {},
     "output_type": "execute_result"
    }
   ],
   "source": [
    "hoursdata.dtypes"
   ]
  },
  {
   "cell_type": "code",
   "execution_count": 36,
   "id": "2717bad7-a79f-4505-b34c-ac5fbb547451",
   "metadata": {},
   "outputs": [],
   "source": [
    "# Extracting hours\n",
    "hoursdata['Hours'] = hoursdata['Data'].dt.hour"
   ]
  },
  {
   "cell_type": "markdown",
   "id": "e6873d2c-fb5d-425b-904d-abda12b3f03b",
   "metadata": {},
   "source": [
    "Now I created two arrays, the first contains the total amount of vehicles that passed through Via Lame totally among the years of relevation\n",
    "\n",
    "The second is necessary to understand which is the median value of vehicles passing each day through Via Lame"
   ]
  },
  {
   "cell_type": "code",
   "execution_count": 39,
   "id": "d9cc8ab6-79c8-4a53-a00e-3b1da8944f42",
   "metadata": {},
   "outputs": [],
   "source": [
    "# \n",
    "grouped_hours_data = hoursdata.groupby('Hours')['Totale passaggi'].sum().reset_index()\n",
    "\n",
    "# Group by hour and calculate the median of 'Totale passaggi'\n",
    "median_data = hoursdata.groupby('Hours')['Totale passaggi'].median().reset_index()"
   ]
  },
  {
   "cell_type": "code",
   "execution_count": 41,
   "id": "984905a6-a148-46a6-a4b8-63a03bba4c78",
   "metadata": {},
   "outputs": [
    {
     "data": {
      "text/html": [
       "<div>\n",
       "<style scoped>\n",
       "    .dataframe tbody tr th:only-of-type {\n",
       "        vertical-align: middle;\n",
       "    }\n",
       "\n",
       "    .dataframe tbody tr th {\n",
       "        vertical-align: top;\n",
       "    }\n",
       "\n",
       "    .dataframe thead th {\n",
       "        text-align: right;\n",
       "    }\n",
       "</style>\n",
       "<table border=\"1\" class=\"dataframe\">\n",
       "  <thead>\n",
       "    <tr style=\"text-align: right;\">\n",
       "      <th></th>\n",
       "      <th>Hours</th>\n",
       "      <th>Totale passaggi</th>\n",
       "    </tr>\n",
       "  </thead>\n",
       "  <tbody>\n",
       "    <tr>\n",
       "      <th>0</th>\n",
       "      <td>0</td>\n",
       "      <td>4269</td>\n",
       "    </tr>\n",
       "    <tr>\n",
       "      <th>1</th>\n",
       "      <td>1</td>\n",
       "      <td>2885</td>\n",
       "    </tr>\n",
       "  </tbody>\n",
       "</table>\n",
       "</div>"
      ],
      "text/plain": [
       "   Hours  Totale passaggi\n",
       "0      0             4269\n",
       "1      1             2885"
      ]
     },
     "execution_count": 41,
     "metadata": {},
     "output_type": "execute_result"
    }
   ],
   "source": [
    "grouped_hours_data.head(2)"
   ]
  },
  {
   "cell_type": "code",
   "execution_count": 42,
   "id": "c27ddfbf-f59d-4fcf-bf4f-7d9e7d3f05ae",
   "metadata": {},
   "outputs": [
    {
     "data": {
      "text/html": [
       "<div>\n",
       "<style scoped>\n",
       "    .dataframe tbody tr th:only-of-type {\n",
       "        vertical-align: middle;\n",
       "    }\n",
       "\n",
       "    .dataframe tbody tr th {\n",
       "        vertical-align: top;\n",
       "    }\n",
       "\n",
       "    .dataframe thead th {\n",
       "        text-align: right;\n",
       "    }\n",
       "</style>\n",
       "<table border=\"1\" class=\"dataframe\">\n",
       "  <thead>\n",
       "    <tr style=\"text-align: right;\">\n",
       "      <th></th>\n",
       "      <th>Hours</th>\n",
       "      <th>Totale passaggi</th>\n",
       "    </tr>\n",
       "  </thead>\n",
       "  <tbody>\n",
       "    <tr>\n",
       "      <th>0</th>\n",
       "      <td>0</td>\n",
       "      <td>0.0</td>\n",
       "    </tr>\n",
       "    <tr>\n",
       "      <th>1</th>\n",
       "      <td>1</td>\n",
       "      <td>0.0</td>\n",
       "    </tr>\n",
       "  </tbody>\n",
       "</table>\n",
       "</div>"
      ],
      "text/plain": [
       "   Hours  Totale passaggi\n",
       "0      0              0.0\n",
       "1      1              0.0"
      ]
     },
     "execution_count": 42,
     "metadata": {},
     "output_type": "execute_result"
    }
   ],
   "source": [
    "median_data.head(2)"
   ]
  },
  {
   "cell_type": "code",
   "execution_count": 43,
   "id": "cb06a9b9-3878-4a3d-8e54-34c2ea621b2d",
   "metadata": {},
   "outputs": [
    {
     "name": "stdout",
     "output_type": "stream",
     "text": [
      "This values go from 2019-04-28T14:00:00+02:00 to 2025-01-31T23:45:00+01:00\n"
     ]
    },
    {
     "data": {
      "image/png": "[encoded data removed]",
      "text/plain": [
       "<Figure size 1000x600 with 1 Axes>"
      ]
     },
     "metadata": {},
     "output_type": "display_data"
    }
   ],
   "source": [
    "# Plot the histogram\n",
    "plt.figure(figsize=(10, 6))\n",
    "plt.bar(grouped_hours_data['Hours'], grouped_hours_data['Totale passaggi'], width=1, edgecolor='black')\n",
    "\n",
    "# Print\n",
    "print('This values go from 2019-04-28T14:00:00+02:00 to 2025-01-31T23:45:00+01:00')\n",
    "\n",
    "# Customize the plot\n",
    "plt.title('Totale passaggi per ora')\n",
    "plt.xlabel('Ora')\n",
    "plt.ylabel('Totale passaggi')\n",
    "plt.xticks(range(24))  # To display all hours (0-23)\n",
    "plt.grid(axis='y', linestyle='--', alpha=0.7)\n",
    "\n",
    "# Show the plot\n",
    "plt.show()\n",
    "\n"
   ]
  },
  {
   "cell_type": "code",
   "execution_count": 44,
   "id": "15dabf57-2951-422a-9253-e07fa4211991",
   "metadata": {},
   "outputs": [
    {
     "data": {
      "application/vnd.jupyter.widget-view+json": {
       "model_id": "5a064d0b3a984dbdb041f5b2d6eef83e",
       "version_major": 2,
       "version_minor": 0
      },
      "text/plain": [
       "Map(center=[44.5003, 11.3345], close_popup_on_click=False, controls=(ZoomControl(options=['position', 'zoom_in…"
      ]
     },
     "execution_count": 44,
     "metadata": {},
     "output_type": "execute_result"
    }
   ],
   "source": [
    "from ipyleaflet import Map, basemaps, basemap_to_tiles, Popup, Polyline, Marker\n",
    "from ipywidgets import HTML\n",
    "\n",
    "m = Map(\n",
    "    basemap=basemap_to_tiles(basemaps.OpenTopoMap, \"2017-04-08\"),\n",
    "    center=(44.5003, 11.3345),\n",
    "    zoom=15,\n",
    "    close_popup_on_click = False\n",
    ")\n",
    "\n",
    "start_via_lame=(44.50237, 11.33329)\n",
    "end_via_lame=(44.496556, 11.337333)\n",
    "\n",
    "m.add(Marker(location=start_via_lame))  # Porta delle Lame (start)\n",
    "m.add(Marker(location=end_via_lame))    # Via Riva di Reno (end)\n",
    "\n",
    "end_lame_message = HTML()\n",
    "end_lame_message.value = \"End of via Lame\"\n",
    "start_lame_message = HTML()\n",
    "start_lame_message.value = \"Start of of via Lame\"\n",
    "\n",
    "popup_end_via_lame = Popup(\n",
    "    location = end_via_lame,\n",
    "    child=end_lame_message,\n",
    "    close_button=False,\n",
    "    auto_close=False,\n",
    "    close_on_escape_key = False\n",
    ")\n",
    "\n",
    "\n",
    "popup_start_via_lame = Popup(\n",
    "    location = start_via_lame,\n",
    "    child=start_lame_message,\n",
    "    close_button=False,\n",
    "    auto_close=False,\n",
    "    close_on_escape_key = False\n",
    ")\n",
    "\n",
    "line = Polyline(\n",
    "    locations = [start_via_lame, end_via_lame],\n",
    "    color = \"green\",\n",
    "    fill = True)\n",
    "\n",
    "m.add(popup_start_via_lame)\n",
    "m.add(popup_end_via_lame)\n",
    "m.add(line)"
   ]
  }
 ],
 "metadata": {
  "kernelspec": {
   "display_name": "Python 3 (ipykernel)",
   "language": "python",
   "name": "python3"
  },
  "language_info": {
   "codemirror_mode": {
    "name": "ipython",
    "version": 3
   },
   "file_extension": ".py",
   "mimetype": "text/x-python",
   "name": "python",
   "nbconvert_exporter": "python",
   "pygments_lexer": "ipython3",
   "version": "3.13.2"
  }
 },
 "nbformat": 4,
 "nbformat_minor": 5
}
