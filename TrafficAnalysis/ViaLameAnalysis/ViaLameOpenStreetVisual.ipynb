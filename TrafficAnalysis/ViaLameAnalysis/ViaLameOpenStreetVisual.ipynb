{
 "cells": [
  {
   "cell_type": "code",
   "execution_count": 2,
   "id": "7044f7b8-0200-4b71-9af7-77ef3ab0e031",
   "metadata": {},
   "outputs": [
    {
     "data": {
      "application/vnd.jupyter.widget-view+json": {
       "model_id": "2e9a2c4ba13441a3a3278311793cf26c",
       "version_major": 2,
       "version_minor": 0
      },
      "text/plain": [
       "Map(center=[44.5003, 11.3345], close_popup_on_click=False, controls=(ZoomControl(options=['position', 'zoom_in…"
      ]
     },
     "execution_count": 2,
     "metadata": {},
     "output_type": "execute_result"
    }
   ],
   "source": [
    "from ipyleaflet import Map, basemaps, basemap_to_tiles, Popup, Polyline, Marker\n",
    "from ipywidgets import HTML\n",
    "\n",
    "m = Map(\n",
    "    basemap=basemap_to_tiles(basemaps.OpenTopoMap, \"2017-04-08\"),\n",
    "    center=(44.5003, 11.3345),\n",
    "    zoom=15,\n",
    "    close_popup_on_click = False\n",
    ")\n",
    "\n",
    "start_via_lame=(44.50237, 11.33329)\n",
    "end_via_lame=(44.496556, 11.337333)\n",
    "\n",
    "m.add(Marker(location=start_via_lame))  # Porta delle Lame (start)\n",
    "m.add(Marker(location=end_via_lame))    # Via Riva di Reno (end)\n",
    "\n",
    "end_lame_message = HTML()\n",
    "end_lame_message.value = \"End of via Lame\"\n",
    "start_lame_message = HTML()\n",
    "start_lame_message.value = \"Start of of via Lame\"\n",
    "\n",
    "popup_end_via_lame = Popup(\n",
    "    location = end_via_lame,\n",
    "    child=end_lame_message,\n",
    "    close_button=False,\n",
    "    auto_close=False,\n",
    "    close_on_escape_key = False\n",
    ")\n",
    "\n",
    "\n",
    "popup_start_via_lame = Popup(\n",
    "    location = start_via_lame,\n",
    "    child=start_lame_message,\n",
    "    close_button=False,\n",
    "    auto_close=False,\n",
    "    close_on_escape_key = False\n",
    ")\n",
    "\n",
    "line = Polyline(\n",
    "    locations = [start_via_lame, end_via_lame],\n",
    "    color = \"green\",\n",
    "    fill = True)\n",
    "\n",
    "m.add(popup_start_via_lame)\n",
    "m.add(popup_end_via_lame)\n",
    "m.add(line)"
   ]
  },
  {
   "cell_type": "code",
   "execution_count": 81,
   "id": "5bc16c6c-b0c6-4a5c-a2f1-fae59bcea0d8",
   "metadata": {},
   "outputs": [
    {
     "data": {
      "text/plain": [
       "<bound method Map.add_layer of Map(center=[44.5003, 11.3345], controls=(ZoomControl(options=['position', 'zoom_in_text', 'zoom_in_title', 'zoom_out_text', 'zoom_out_title']), AttributionControl(options=['position', 'prefix'], position='bottomright')), crs={'name': 'EPSG3857', 'custom': False}, default_style=MapStyle(), dragging_style=MapStyle(cursor='move'), layers=(TileLayer(attribution='&copy; <a href=\"https://www.openstreetmap.org/copyright\">OpenStreetMap</a> contributors', base=True, max_zoom=19, min_zoom=1, name='OpenStreetMap.Mapnik', options=['attribution', 'bounds', 'detect_retina', 'max_native_zoom', 'max_zoom', 'min_native_zoom', 'min_zoom', 'no_wrap', 'tile_size', 'tms', 'zoom_offset'], url='https://tile.openstreetmap.org/{z}/{x}/{y}.png'),), options=['bounce_at_zoom_limits', 'box_zoom', 'center', 'close_popup_on_click', 'double_click_zoom', 'dragging', 'fullscreen', 'inertia', 'inertia_deceleration', 'inertia_max_speed', 'interpolation', 'keyboard', 'keyboard_pan_offset', 'keyboard_zoom_offset', 'max_zoom', 'min_zoom', 'prefer_canvas', 'scroll_wheel_zoom', 'tap', 'tap_tolerance', 'touch_zoom', 'world_copy_jump', 'zoom', 'zoom_animation_threshold', 'zoom_delta', 'zoom_snap'], style=MapStyle(), zoom=16.0)>"
      ]
     },
     "execution_count": 81,
     "metadata": {},
     "output_type": "execute_result"
    }
   ],
   "source": [
    "from ipyleaflet import Map, Polyline\n",
    "\n",
    "# Initialize the map centered on Via delle Lame\n",
    "m = Map(center=(44.5003, 11.3345), zoom=16)\n",
    "\n",
    "# Define the coordinates of Via delle Lame (approximate path)\n",
    "via_lame_coords = [\n",
    "    (44.50237, 11.33329),  # Start at Porta delle Lame\n",
    "    (44.5015, 11.3338),\n",
    "    (44.5005, 11.3342),\n",
    "    (44.4995, 11.3348),\n",
    "    (44.4982, 11.3357)  # End near Via Riva di Reno\n",
    "]\n",
    "\n",
    "# Create the highlighted street\n",
    "via_lame_highlight = Polyline(\n",
    "    locations=via_lame_coords,\n",
    "    color=\"red\",  # Line color\n",
    "    weight=8,  # Thickness of the line\n",
    "    opacity=0.7\n",
    ")\n",
    "\n",
    "# Add the polyline to the map\n",
    "m.add_layer\n"
   ]
  }
 ],
 "metadata": {
  "kernelspec": {
   "display_name": "Python 3 (ipykernel)",
   "language": "python",
   "name": "python3"
  },
  "language_info": {
   "codemirror_mode": {
    "name": "ipython",
    "version": 3
   },
   "file_extension": ".py",
   "mimetype": "text/x-python",
   "name": "python",
   "nbconvert_exporter": "python",
   "pygments_lexer": "ipython3",
   "version": "3.13.2"
  }
 },
 "nbformat": 4,
 "nbformat_minor": 5
}
